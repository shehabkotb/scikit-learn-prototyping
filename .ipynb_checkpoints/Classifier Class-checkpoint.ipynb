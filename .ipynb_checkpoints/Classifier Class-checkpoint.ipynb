{
 "cells": [
  {
   "cell_type": "markdown",
   "metadata": {},
   "source": [
    "# Classifier Class\n",
    "This class wraps 4 kinds of classifiers **naive_bayes, DecisionTreeClassifier, RandomForestClassifier, KNeighborsClassifier**\n"
   ]
  },
  {
   "cell_type": "code",
   "execution_count": 1,
   "metadata": {},
   "outputs": [],
   "source": [
    "import numpy as np\n",
    "from sklearn import datasets\n",
    "from sklearn.model_selection import train_test_split\n",
    "from sklearn.naive_bayes import GaussianNB\n",
    "from sklearn.tree import DecisionTreeClassifier\n",
    "from sklearn.ensemble import RandomForestClassifier\n",
    "from sklearn.neighbors import KNeighborsClassifier\n",
    "\n",
    "class Classifier:\n",
    "    def __init__(self, method):\n",
    "        if(method == 'BAYES'):\n",
    "            self.clf = GaussianNB()\n",
    "        elif(method == 'DTREE'):\n",
    "            self.clf = DecisionTreeClassifier()\n",
    "        elif(method == 'KNN'):\n",
    "            self.clf = KNeighborsClassifier()\n",
    "        elif(method == 'RF'):\n",
    "            self.clf = RandomForestClassifier()\n",
    "        else:\n",
    "            #picking bayes as default classifier if input invalid\n",
    "            self.clf = GaussianNB()\n",
    "\n",
    "    def fit(self, X_train, y_train):\n",
    "        self.clf.fit(X_train, y_train)\n",
    "\n",
    "    def predict(self, X_test):\n",
    "        return self.clf.predict(X_test)\n",
    "\n",
    "    def score(self, X_test, y_test):\n",
    "        return self.clf.score(X_test, y_test)"
   ]
  },
  {
   "cell_type": "markdown",
   "metadata": {},
   "source": [
    "### Parameters\n",
    "**method**: String, (default = BAYES)\n",
    "\n",
    "- BAYES: uses naive bayes classifier\n",
    "- DTREE: uses decision tree classifier\n",
    "- KNN: uses nearest neighbor classifier\n",
    "- RF: uses random forest classifier"
   ]
  },
  {
   "cell_type": "markdown",
   "metadata": {},
   "source": [
    "##  fit(self, X_train, y_train)\n",
    "fit classifier according to X_train, y_train\n",
    "\n",
    "### Parameters\n",
    "\n",
    "\n",
    "**X_train**: array-like, shape (n_samples, n_features)\n",
    "\n",
    "> - Training vectors, where n_samples is the number of samples and n_features is the number of features.\n",
    "\n",
    "**y_train**: array-like, shape (n_samples)\n",
    "\n",
    "> - Target values."
   ]
  },
  {
   "cell_type": "markdown",
   "metadata": {},
   "source": [
    "##  predict(self, X_test)\n",
    "perform classification on an array of test vectors X.\n",
    "\n",
    "### Parameters\n",
    "\n",
    "**X_test**: array-like, shape (n_samples, n_features)\n",
    "\n",
    "> - vector to perform classification on.\n",
    "\n",
    "**returns**: ndarray of shape (n_samples) predicted values for X_test."
   ]
  },
  {
   "cell_type": "markdown",
   "metadata": {},
   "source": [
    "##  score(self, X_test, y_test)\n",
    "Returns the mean accuracy on the given test data and labels.\n",
    "\n",
    "### Parameters\n",
    "\n",
    "**X_test**: array-like of shape (n_samples, n_features)\n",
    "\n",
    "> - Test samples.\n",
    "\n",
    "**y_test**: array-like of shape (n_samples,) or (n_samples, n_outputs)\n",
    "\n",
    "> - True labels for X.\n",
    "\n",
    "**returns**: float Mean accuracy of self.predict(X_test) wrt. y_test."
   ]
  },
  {
   "cell_type": "markdown",
   "metadata": {},
   "source": [
    "## Example"
   ]
  },
  {
   "cell_type": "code",
   "execution_count": 2,
   "metadata": {},
   "outputs": [
    {
     "data": {
      "text/plain": [
       "array([2, 1, 1, 2, 0, 2, 1, 1, 2, 1, 2, 0, 2, 2, 1, 0, 1, 0, 0, 2, 2, 1,\n",
       "       1, 2, 2, 1, 1, 0, 0, 1, 0, 2, 0, 2, 1, 1, 1, 0, 1, 0, 0, 2, 0, 1,\n",
       "       0, 1, 1, 2, 2, 2, 1, 1, 0, 0, 2, 2, 1, 1, 2, 0, 1, 1, 2, 1, 0, 2,\n",
       "       0, 0, 2, 0, 1, 0, 1, 2, 0])"
      ]
     },
     "execution_count": 2,
     "metadata": {},
     "output_type": "execute_result"
    }
   ],
   "source": [
    "X, y = datasets.load_iris(return_X_y=True)\n",
    "X_train, X_test, y_train, y_test = train_test_split(X, y, test_size=0.5)\n",
    "clf = Classifier('KNN')\n",
    "clf.fit(X_train, y_train)\n",
    "clf.predict(X_test)\n"
   ]
  },
  {
   "cell_type": "code",
   "execution_count": 3,
   "metadata": {},
   "outputs": [
    {
     "data": {
      "text/plain": [
       "1.0"
      ]
     },
     "execution_count": 3,
     "metadata": {},
     "output_type": "execute_result"
    }
   ],
   "source": [
    "clf.score(X_test, y_test)"
   ]
  }
 ],
 "metadata": {
  "kernelspec": {
   "display_name": "Python 3",
   "language": "python",
   "name": "python3"
  },
  "language_info": {
   "codemirror_mode": {
    "name": "ipython",
    "version": 3
   },
   "file_extension": ".py",
   "mimetype": "text/x-python",
   "name": "python",
   "nbconvert_exporter": "python",
   "pygments_lexer": "ipython3",
   "version": "3.7.3"
  }
 },
 "nbformat": 4,
 "nbformat_minor": 2
}
