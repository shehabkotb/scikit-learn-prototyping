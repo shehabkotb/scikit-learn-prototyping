{
 "cells": [
  {
   "cell_type": "markdown",
   "metadata": {},
   "source": [
    "# Cluster Class\n",
    "This class wraps kmeans clustering class\n"
   ]
  },
  {
   "cell_type": "code",
   "execution_count": 3,
   "metadata": {},
   "outputs": [],
   "source": [
    "from sklearn.cluster import KMeans\n",
    "from sklearn import datasets\n",
    "from sklearn.datasets import make_blobs\n",
    "from sklearn.model_selection import train_test_split\n",
    "import numpy as np\n",
    "\n",
    "class MyCluster:\n",
    "    def __init__(self, centeroids=8):\n",
    "        self.c = KMeans(n_clusters=centeroids)\n",
    "\n",
    "    def fit(self, X):\n",
    "        return self.c.fit(X)\n",
    "\n",
    "    def predict(self, X_test):\n",
    "        return self.c.predict(X_test)\n",
    "\n",
    "    def score(self, X_test):\n",
    "        return self.c.score(X_test)"
   ]
  },
  {
   "cell_type": "markdown",
   "metadata": {},
   "source": [
    "### Parameters\n",
    "\n",
    "**centeroids**: int, optional, default: 8.\n",
    "\n",
    "> - The number of clusters to form as well as the number of centroids to generate.\n"
   ]
  },
  {
   "cell_type": "markdown",
   "metadata": {},
   "source": [
    "##  fit(self, X_train)\n",
    "Compute k-means clustering.\n",
    "\n",
    "### Parameters\n",
    "\n",
    "\n",
    "**X_train**: array-like or sparse matrix, shape=(n_samples, n_features)\n",
    "\n",
    "> - Training instances to cluster. It must be noted that the data will be converted to C ordering, which will cause a memory copy if the given data is not C-contiguous.\n",
    "\n",
    "**returns**: Fitted estimator."
   ]
  },
  {
   "cell_type": "markdown",
   "metadata": {},
   "source": [
    "##  predict(self, X_test)\n",
    "Predict the closest cluster each sample in X belongs to.\n",
    "\n",
    "### Parameters\n",
    "\n",
    "**X_test**: {array-like, sparse matrix} of shape (n_samples, n_features)\n",
    "\n",
    "> - New data to predict.\n",
    "\n",
    "**returns**: labelsarray, shape [n_samples]; Index of the cluster each sample belongs to."
   ]
  },
  {
   "cell_type": "markdown",
   "metadata": {},
   "source": [
    "##  score(self, X_test)\n",
    "Opposite of the value of X on the K-means objective.\n",
    "\n",
    "### Parameters\n",
    "\n",
    "**X_test**: {array-like, sparse matrix} of shape (n_samples, n_features)\n",
    "\n",
    "> - New data.\n",
    "\n",
    "**returns**: float Opposite of the value of X on the K-means objective."
   ]
  },
  {
   "cell_type": "markdown",
   "metadata": {},
   "source": [
    "## Example"
   ]
  },
  {
   "cell_type": "code",
   "execution_count": 5,
   "metadata": {},
   "outputs": [
    {
     "data": {
      "text/plain": [
       "array([1, 1, 1, 0, 0, 0])"
      ]
     },
     "execution_count": 5,
     "metadata": {},
     "output_type": "execute_result"
    }
   ],
   "source": [
    "X = np.array([[1, 2], [1, 4], [1, 0],\n",
    "                [10, 2], [10, 4], [10, 0]])\n",
    "kmeans = MyCluster(2).fit(X)\n",
    "kmeans.labels_"
   ]
  },
  {
   "cell_type": "code",
   "execution_count": 6,
   "metadata": {},
   "outputs": [
    {
     "data": {
      "text/plain": [
       "array([1, 0])"
      ]
     },
     "execution_count": 6,
     "metadata": {},
     "output_type": "execute_result"
    }
   ],
   "source": [
    "kmeans.predict([[0, 0], [12, 3]])"
   ]
  }
 ],
 "metadata": {
  "kernelspec": {
   "display_name": "Python 3",
   "language": "python",
   "name": "python3"
  },
  "language_info": {
   "codemirror_mode": {
    "name": "ipython",
    "version": 3
   },
   "file_extension": ".py",
   "mimetype": "text/x-python",
   "name": "python",
   "nbconvert_exporter": "python",
   "pygments_lexer": "ipython3",
   "version": "3.7.3"
  }
 },
 "nbformat": 4,
 "nbformat_minor": 2
}
