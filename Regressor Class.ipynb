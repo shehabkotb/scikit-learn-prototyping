{
 "cells": [
  {
   "cell_type": "markdown",
   "metadata": {},
   "source": [
    "# Regressor Class\n",
    "This class wraps 3 kinds of Reggresion classes **LinearRegression, DecisionTreeRegressor, KNeighborsRegressor**.\n",
    "it can also do polynomial reggression from **PolynomialFeatures** \n"
   ]
  },
  {
   "cell_type": "code",
   "execution_count": 1,
   "metadata": {},
   "outputs": [],
   "source": [
    "import numpy as np\n",
    "import matplotlib.pyplot as plt\n",
    "from sklearn.datasets import make_regression\n",
    "from sklearn.model_selection import train_test_split\n",
    "from sklearn.linear_model import LinearRegression\n",
    "from sklearn.preprocessing import PolynomialFeatures\n",
    "from sklearn.tree import DecisionTreeRegressor\n",
    "from sklearn.neighbors import KNeighborsRegressor\n",
    "\n",
    "class Regressor:\n",
    "    def __init__(self, method, **kwargs):\n",
    "\n",
    "        self.RegressorType = method\n",
    "\n",
    "        if(method == 'LINEAR' or 'POLY'):\n",
    "            self.clf = LinearRegression()\n",
    "\n",
    "            # take default degree as 2 if none was given\n",
    "            if 'degree' in kwargs:\n",
    "                self.degree = kwargs['degree']\n",
    "            else:\n",
    "                self.degree = 2 \n",
    "\n",
    "        elif(method == 'DTREE'):\n",
    "            self.clf = DecisionTreeRegressor()\n",
    "        elif(method == 'KNN'):\n",
    "            self.clf = KNeighborsRegressor()       \n",
    "        else:\n",
    "            #picking linearReg as default regression if input invalid\n",
    "            self.RegressorType = 'LINEAR'\n",
    "            self.clf = LinearRegression()\n",
    "\n",
    "    def fit(self, X_train, y_train):\n",
    "        if(self.RegressorType != 'POLY'):\n",
    "            self.clf.fit(X_train, y_train)\n",
    "        else:\n",
    "            poly = PolynomialFeatures(degree=self.degree)\n",
    "            X_poly = poly.fit_transform(X_train)\n",
    "            self.clf.fit(X_poly, y_train)\n",
    "            \n",
    "\n",
    "    def predict(self, X_test):\n",
    "        if(self.RegressorType != 'POLY'):\n",
    "            return self.clf.predict(X_test)\n",
    "        else:\n",
    "            poly = PolynomialFeatures(degree=self.degree)\n",
    "            X_test_poly = poly.fit_transform(X_test)\n",
    "            return self.clf.predict(X_test_poly)\n",
    "\n",
    "    def score(self, X_test, y_test):\n",
    "        if(self.RegressorType != 'POLY'):\n",
    "            return self.clf.score(X_test, y_test)\n",
    "        else:\n",
    "            poly = PolynomialFeatures(degree=self.degree)\n",
    "            X_test_poly = poly.fit_transform(X_test)\n",
    "            return self.clf.score(X_test_poly, y_test)"
   ]
  },
  {
   "cell_type": "markdown",
   "metadata": {},
   "source": [
    "### Parameters\n",
    "\n",
    "**method**: String, (default = LINEAR)\n",
    "\n",
    "- LINEAR: uses linear reggresion\n",
    "- POLY: performs polynomial reggresion\n",
    "- DTREE: uses decision tree reggresion\n",
    "- KNN: uses k neareast neigbours reggresion\n"
   ]
  },
  {
   "cell_type": "markdown",
   "metadata": {},
   "source": [
    "**degree**: int, **optional**, default: 2.\n",
    "\n",
    "> - degree of polynomial regression if it is choosen."
   ]
  },
  {
   "cell_type": "markdown",
   "metadata": {},
   "source": [
    "##  fit(self, X_train, y_train)\n",
    "Fit linear model.\n",
    "\n",
    "### Parameters\n"
   ]
  },
  {
   "cell_type": "markdown",
   "metadata": {},
   "source": [
    "**X_train**: {array-like, sparse matrix} of shape (n_samples, n_features)\n",
    "\n",
    "> - Training data\n"
   ]
  },
  {
   "cell_type": "markdown",
   "metadata": {},
   "source": [
    "**y_train**: array-like of shape (n_samples,) or (n_samples, n_targets)\n",
    "\n",
    "> - Target values. Will be cast to X’s dtype if necessary"
   ]
  },
  {
   "cell_type": "markdown",
   "metadata": {},
   "source": [
    "##  predict(self, X_test)\n",
    "Predict using the linear model.\n",
    "\n",
    "### Parameters\n"
   ]
  },
  {
   "cell_type": "markdown",
   "metadata": {},
   "source": [
    "\n",
    "**X_test**: array_like or sparse matrix, shape (n_samples, n_features)\n",
    "\n",
    "> - Samples.\n",
    "\n",
    "**returns**: array, shape (n_samples,) predicted values for X_test.\n"
   ]
  },
  {
   "cell_type": "markdown",
   "metadata": {},
   "source": [
    "##  score(self, X_test, y_test)\n",
    "Return the coefficient of determination R^2 of the prediction.\n",
    "\n",
    "The coefficient R^2 is defined as (1 - u/v), where u is the residual sum of squares ((y_true - y_pred) ** 2).sum() and v is the total sum of squares ((y_true - y_true.mean()) ** 2).sum(). The best possible score is 1.0 and it can be negative (because the model can be arbitrarily worse). A constant model that always predicts the expected value of y, disregarding the input features, would get a R^2 score of 0.0.\n",
    "\n",
    "### Parameters\n"
   ]
  },
  {
   "cell_type": "markdown",
   "metadata": {},
   "source": [
    "**X_test**: array-like of shape (n_samples, n_features)\n",
    "\n",
    "> - Test samples. For some estimators this may be a precomputed kernel matrix or a list of generic objects instead, shape = (n_samples, n_samples_fitted), where n_samples_fitted is the number of samples used in the fitting for the estimator.\n",
    "\n"
   ]
  },
  {
   "cell_type": "markdown",
   "metadata": {},
   "source": [
    "**y_test**: array-like of shape (n_samples,) or (n_samples, n_outputs)\n",
    "\n",
    "> - True values for X_test.\n",
    "\n",
    "**returns**: float R^2 of self.predict(X_test) wrt. y_test."
   ]
  },
  {
   "cell_type": "markdown",
   "metadata": {},
   "source": [
    "## Example"
   ]
  },
  {
   "cell_type": "code",
   "execution_count": 4,
   "metadata": {},
   "outputs": [
    {
     "data": {
      "image/png": "[encoded data removed]",
      "text/plain": [
       "<Figure size 432x288 with 1 Axes>"
      ]
     },
     "metadata": {
      "needs_background": "light"
     },
     "output_type": "display_data"
    },
    {
     "data": {
      "text/plain": [
       "array([113.71818622, 123.25278786,  89.3532449 ,  84.38474488,\n",
       "        38.60546871, 110.23441629,  84.92706996, 111.66073836,\n",
       "       146.63838332, 117.22758983,  80.73145302, 144.37598802,\n",
       "        90.84876885,  76.77350711, 114.30517408,  75.44090138,\n",
       "        94.03841437,  92.53900523, 158.50697902, 129.19781434])"
      ]
     },
     "execution_count": 4,
     "metadata": {},
     "output_type": "execute_result"
    }
   ],
   "source": [
    "X, y = make_regression(n_samples=100, n_features=1, random_state=0, noise=5.0, bias=100.0)\n",
    "plt.scatter(X,y)\n",
    "plt.show()\n",
    "X_train, X_test, y_train, y_test = train_test_split(X, y, test_size=0.2)\n",
    "clf = Regressor('POLY', degree=3)\n",
    "clf.fit(X_train, y_train)\n",
    "clf.predict(X_test)\n",
    "y_test"
   ]
  },
  {
   "cell_type": "code",
   "execution_count": 5,
   "metadata": {},
   "outputs": [
    {
     "data": {
      "text/plain": [
       "0.9542561469194448"
      ]
     },
     "execution_count": 5,
     "metadata": {},
     "output_type": "execute_result"
    }
   ],
   "source": [
    "clf.score(X_test, y_test)"
   ]
  }
 ],
 "metadata": {
  "kernelspec": {
   "display_name": "Python 3",
   "language": "python",
   "name": "python3"
  },
  "language_info": {
   "codemirror_mode": {
    "name": "ipython",
    "version": 3
   },
   "file_extension": ".py",
   "mimetype": "text/x-python",
   "name": "python",
   "nbconvert_exporter": "python",
   "pygments_lexer": "ipython3",
   "version": "3.7.3"
  }
 },
 "nbformat": 4,
 "nbformat_minor": 2
}
